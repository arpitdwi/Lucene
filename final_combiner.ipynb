{
 "cells": [
  {
   "cell_type": "code",
   "execution_count": 1,
   "metadata": {},
   "outputs": [],
   "source": [
    "\n",
    "import os\n",
    "enc = 'utf-8'"
   ]
  },
  {
   "cell_type": "code",
   "execution_count": 2,
   "metadata": {},
   "outputs": [],
   "source": [
    "base_path = \"C:/Users/arpitdwivedi/eclipse-workspace/LuceneTestProject/final/dd/train\"\n",
    "filename = \"C:/Users/arpitdwivedi/eclipse-workspace/LuceneTestProject/final/dd/train.txt\"\n",
    "f1 = open(filename,\"w\",encoding = enc)\n",
    "\n",
    "lst = os.listdir(base_path)\n",
    "ls = {}\n",
    "for l in lst:\n",
    "    tt = int(l.split(\"_\")[0])\n",
    "    oo = int(l.split(\"_\")[1].split(\".\")[0])\n",
    "    k = 100*tt + oo\n",
    "    ls[k] = l\n",
    "s = {k : ls[k] for k in sorted(ls)}\n",
    "nl = []\n",
    "for l in s:\n",
    "    nl.append(s[l])\n",
    "\n",
    "for file in nl:\n",
    "    f2 = open(base_path + \"/\" + file, \"r\",encoding = enc)\n",
    "    f1.write(f2.read())\n",
    "    f2.close()\n",
    "f1.close()"
   ]
  },
  {
   "cell_type": "code",
   "execution_count": 3,
   "metadata": {},
   "outputs": [],
   "source": [
    "base_path = \"C:/Users/arpitdwivedi/eclipse-workspace/LuceneTestProject/final/dd/val\"\n",
    "filename = \"C:/Users/arpitdwivedi/eclipse-workspace/LuceneTestProject/final/dd/val.txt\"\n",
    "f1 = open(filename,\"w\",encoding = enc)\n",
    "\n",
    "lst = os.listdir(base_path)\n",
    "ls = {}\n",
    "for l in lst:\n",
    "    tt = int(l.split(\"_\")[0])\n",
    "    oo = int(l.split(\"_\")[1].split(\".\")[0])\n",
    "    k = 100*tt + oo\n",
    "    ls[k] = l\n",
    "s = {k : ls[k] for k in sorted(ls)}\n",
    "nl = []\n",
    "for l in s:\n",
    "    nl.append(s[l])\n",
    "\n",
    "for file in nl:\n",
    "    f2 = open(base_path + \"/\" + file, \"r\",encoding = enc)\n",
    "    f1.write(f2.read())\n",
    "    f2.close()\n",
    "f1.close()"
   ]
  },
  {
   "cell_type": "code",
   "execution_count": 4,
   "metadata": {},
   "outputs": [],
   "source": [
    "base_path = \"C:/Users/arpitdwivedi/eclipse-workspace/LuceneTestProject/final/dd/test\"\n",
    "filename = \"C:/Users/arpitdwivedi/eclipse-workspace/LuceneTestProject/final/dd/test.txt\"\n",
    "f1 = open(filename,\"w\",encoding = enc)\n",
    "\n",
    "lst = os.listdir(base_path)\n",
    "ls = {}\n",
    "for l in lst:\n",
    "    tt = int(l.split(\"_\")[0])\n",
    "    oo = int(l.split(\"_\")[1].split(\".\")[0])\n",
    "    k = 100*tt + oo\n",
    "    ls[k] = l\n",
    "s = {k : ls[k] for k in sorted(ls)}\n",
    "nl = []\n",
    "for l in s:\n",
    "    nl.append(s[l])\n",
    "\n",
    "for file in nl:\n",
    "    f2 = open(base_path + \"/\" + file, \"r\",encoding = enc)\n",
    "    f1.write(f2.read())\n",
    "    f2.close()\n",
    "f1.close()"
   ]
  },
  {
   "cell_type": "code",
   "execution_count": 5,
   "metadata": {},
   "outputs": [],
   "source": [
    "base_path = \"C:/Users/arpitdwivedi/eclipse-workspace/LuceneTestProject/final/dd_cc/train\"\n",
    "filename = \"C:/Users/arpitdwivedi/eclipse-workspace/LuceneTestProject/final/dd_cc/train.txt\"\n",
    "f1 = open(filename,\"w\",encoding = enc)\n",
    "\n",
    "lst = os.listdir(base_path)\n",
    "ls = {}\n",
    "for l in lst:\n",
    "    tt = int(l.split(\"_\")[0])\n",
    "    oo = int(l.split(\"_\")[1].split(\".\")[0])\n",
    "    k = 100*tt + oo\n",
    "    ls[k] = l\n",
    "s = {k : ls[k] for k in sorted(ls)}\n",
    "nl = []\n",
    "for l in s:\n",
    "    nl.append(s[l])\n",
    "\n",
    "for file in nl:\n",
    "    f2 = open(base_path + \"/\" + file, \"r\",encoding = enc)\n",
    "    f1.write(f2.read())\n",
    "    f2.close()\n",
    "f1.close()"
   ]
  },
  {
   "cell_type": "code",
   "execution_count": 6,
   "metadata": {},
   "outputs": [],
   "source": [
    "base_path = \"C:/Users/arpitdwivedi/eclipse-workspace/LuceneTestProject/final/dd_cc/val\"\n",
    "filename = \"C:/Users/arpitdwivedi/eclipse-workspace/LuceneTestProject/final/dd_cc/val.txt\"\n",
    "f1 = open(filename,\"w\",encoding = enc)\n",
    "\n",
    "lst = os.listdir(base_path)\n",
    "ls = {}\n",
    "for l in lst:\n",
    "    tt = int(l.split(\"_\")[0])\n",
    "    oo = int(l.split(\"_\")[1].split(\".\")[0])\n",
    "    k = 100*tt + oo\n",
    "    ls[k] = l\n",
    "s = {k : ls[k] for k in sorted(ls)}\n",
    "nl = []\n",
    "for l in s:\n",
    "    nl.append(s[l])\n",
    "\n",
    "for file in nl:\n",
    "    f2 = open(base_path + \"/\" + file, \"r\",encoding = enc)\n",
    "    f1.write(f2.read())\n",
    "    f2.close()\n",
    "f1.close()"
   ]
  },
  {
   "cell_type": "code",
   "execution_count": 7,
   "metadata": {},
   "outputs": [],
   "source": [
    "base_path = \"C:/Users/arpitdwivedi/eclipse-workspace/LuceneTestProject/final/dd_cc/test\"\n",
    "filename = \"C:/Users/arpitdwivedi/eclipse-workspace/LuceneTestProject/final/dd_cc/test.txt\"\n",
    "f1 = open(filename,\"w\",encoding = enc)\n",
    "\n",
    "lst = os.listdir(base_path)\n",
    "ls = {}\n",
    "for l in lst:\n",
    "    tt = int(l.split(\"_\")[0])\n",
    "    oo = int(l.split(\"_\")[1].split(\".\")[0])\n",
    "    k = 100*tt + oo\n",
    "    ls[k] = l\n",
    "s = {k : ls[k] for k in sorted(ls)}\n",
    "nl = []\n",
    "for l in s:\n",
    "    nl.append(s[l])\n",
    "\n",
    "for file in nl:\n",
    "    f2 = open(base_path + \"/\" + file, \"r\",encoding = enc)\n",
    "    f1.write(f2.read())\n",
    "    f2.close()\n",
    "f1.close()"
   ]
  },
  {
   "cell_type": "code",
   "execution_count": null,
   "metadata": {},
   "outputs": [],
   "source": []
  }
 ],
 "metadata": {
  "kernelspec": {
   "display_name": "Python 3.9.13 ('base')",
   "language": "python",
   "name": "python3"
  },
  "language_info": {
   "codemirror_mode": {
    "name": "ipython",
    "version": 3
   },
   "file_extension": ".py",
   "mimetype": "text/x-python",
   "name": "python",
   "nbconvert_exporter": "python",
   "pygments_lexer": "ipython3",
   "version": "3.9.13"
  },
  "orig_nbformat": 4,
  "vscode": {
   "interpreter": {
    "hash": "6e8c865cd113b13e0021e006d71e73824ec1b1beaf67b55a3d2955c57bcd3177"
   }
  }
 },
 "nbformat": 4,
 "nbformat_minor": 2
}
