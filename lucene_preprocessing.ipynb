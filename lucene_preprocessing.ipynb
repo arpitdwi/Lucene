{
 "cells": [
  {
   "cell_type": "code",
   "execution_count": 9,
   "metadata": {},
   "outputs": [],
   "source": [
    "import os\n",
    "import re"
   ]
  },
  {
   "cell_type": "code",
   "execution_count": 33,
   "metadata": {},
   "outputs": [],
   "source": [
    "def process(s):\n",
    "    s1 = re.sub('[^A-Za-z0-9]+', ' ', s)\n",
    "    return s1.lower()"
   ]
  },
  {
   "cell_type": "code",
   "execution_count": 34,
   "metadata": {},
   "outputs": [],
   "source": [
    "enc = 'utf-8'\n",
    "base_read_path = \"C:/Users/arpitdwivedi/eclipse-workspace/LuceneTestProject/queries/dd/train\"\n",
    "base_write_path = \"C:/Users/arpitdwivedi/eclipse-workspace/LuceneTestProject/queries_refined/dd/train\"\n",
    "for file in os.listdir(base_read_path):\n",
    "    read_path = base_read_path + \"/\" + file\n",
    "    write_path = base_write_path + \"/\" + file\n",
    "    f1 = open(read_path,\"r\",encoding=enc)\n",
    "    f2 = open(write_path,\"w\")\n",
    "    st = process(f1.read())\n",
    "    f2.write(st)\n",
    "    f1.close()\n",
    "    f2.close()"
   ]
  },
  {
   "cell_type": "code",
   "execution_count": 35,
   "metadata": {},
   "outputs": [],
   "source": [
    "enc = 'utf-8'\n",
    "base_read_path = \"C:/Users/arpitdwivedi/eclipse-workspace/LuceneTestProject/queries/dd/val\"\n",
    "base_write_path = \"C:/Users/arpitdwivedi/eclipse-workspace/LuceneTestProject/queries_refined/dd/val\"\n",
    "for file in os.listdir(base_read_path):\n",
    "    read_path = base_read_path + \"/\" + file\n",
    "    write_path = base_write_path + \"/\" + file\n",
    "    f1 = open(read_path,\"r\",encoding=enc)\n",
    "    f2 = open(write_path,\"w\")\n",
    "    st = process(f1.read())\n",
    "    f2.write(st)\n",
    "    f1.close()\n",
    "    f2.close()"
   ]
  },
  {
   "cell_type": "code",
   "execution_count": 36,
   "metadata": {},
   "outputs": [],
   "source": [
    "enc = 'utf-8'\n",
    "base_read_path = \"C:/Users/arpitdwivedi/eclipse-workspace/LuceneTestProject/queries/dd/test\"\n",
    "base_write_path = \"C:/Users/arpitdwivedi/eclipse-workspace/LuceneTestProject/queries_refined/dd/test\"\n",
    "for file in os.listdir(base_read_path):\n",
    "    read_path = base_read_path + \"/\" + file\n",
    "    write_path = base_write_path + \"/\" + file\n",
    "    f1 = open(read_path,\"r\",encoding=enc)\n",
    "    f2 = open(write_path,\"w\")\n",
    "    st = process(f1.read())\n",
    "    f2.write(st)\n",
    "    f1.close()\n",
    "    f2.close()"
   ]
  },
  {
   "cell_type": "code",
   "execution_count": 37,
   "metadata": {},
   "outputs": [],
   "source": [
    "enc = 'utf-8'\n",
    "base_read_path = \"C:/Users/arpitdwivedi/eclipse-workspace/LuceneTestProject/queries/dd_cc/train\"\n",
    "base_write_path = \"C:/Users/arpitdwivedi/eclipse-workspace/LuceneTestProject/queries_refined/dd_cc/train\"\n",
    "for file in os.listdir(base_read_path):\n",
    "    read_path = base_read_path + \"/\" + file\n",
    "    write_path = base_write_path + \"/\" + file\n",
    "    f1 = open(read_path,\"r\",encoding=enc)\n",
    "    f2 = open(write_path,\"w\")\n",
    "    st = process(f1.read())\n",
    "    f2.write(st)\n",
    "    f1.close()\n",
    "    f2.close()"
   ]
  },
  {
   "cell_type": "code",
   "execution_count": 38,
   "metadata": {},
   "outputs": [],
   "source": [
    "enc = 'utf-8'\n",
    "base_read_path = \"C:/Users/arpitdwivedi/eclipse-workspace/LuceneTestProject/queries/dd_cc/val\"\n",
    "base_write_path = \"C:/Users/arpitdwivedi/eclipse-workspace/LuceneTestProject/queries_refined/dd_cc/val\"\n",
    "for file in os.listdir(base_read_path):\n",
    "    read_path = base_read_path + \"/\" + file\n",
    "    write_path = base_write_path + \"/\" + file\n",
    "    f1 = open(read_path,\"r\",encoding=enc)\n",
    "    f2 = open(write_path,\"w\")\n",
    "    st = process(f1.read())\n",
    "    f2.write(st)\n",
    "    f1.close()\n",
    "    f2.close()"
   ]
  },
  {
   "cell_type": "code",
   "execution_count": 39,
   "metadata": {},
   "outputs": [],
   "source": [
    "enc = 'utf-8'\n",
    "base_read_path = \"C:/Users/arpitdwivedi/eclipse-workspace/LuceneTestProject/queries/dd_cc/test\"\n",
    "base_write_path = \"C:/Users/arpitdwivedi/eclipse-workspace/LuceneTestProject/queries_refined/dd_cc/test\"\n",
    "for file in os.listdir(base_read_path):\n",
    "    read_path = base_read_path + \"/\" + file\n",
    "    write_path = base_write_path + \"/\" + file\n",
    "    f1 = open(read_path,\"r\",encoding=enc)\n",
    "    f2 = open(write_path,\"w\")\n",
    "    st = process(f1.read())\n",
    "    f2.write(st)\n",
    "    f1.close()\n",
    "    f2.close()"
   ]
  },
  {
   "cell_type": "code",
   "execution_count": null,
   "metadata": {},
   "outputs": [],
   "source": []
  }
 ],
 "metadata": {
  "kernelspec": {
   "display_name": "Python 3.9.13 ('base')",
   "language": "python",
   "name": "python3"
  },
  "language_info": {
   "codemirror_mode": {
    "name": "ipython",
    "version": 3
   },
   "file_extension": ".py",
   "mimetype": "text/x-python",
   "name": "python",
   "nbconvert_exporter": "python",
   "pygments_lexer": "ipython3",
   "version": "3.9.13"
  },
  "orig_nbformat": 4,
  "vscode": {
   "interpreter": {
    "hash": "6e8c865cd113b13e0021e006d71e73824ec1b1beaf67b55a3d2955c57bcd3177"
   }
  }
 },
 "nbformat": 4,
 "nbformat_minor": 2
}
